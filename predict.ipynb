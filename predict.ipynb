{
 "cells": [
  {
   "cell_type": "code",
   "execution_count": 7,
   "metadata": {},
   "outputs": [
    {
     "name": "stdout",
     "output_type": "stream",
     "text": [
      "WARNING:tensorflow:6 out of the last 6 calls to <function Model.make_predict_function.<locals>.predict_function at 0x000001E854076D40> triggered tf.function retracing. Tracing is expensive and the excessive number of tracings could be due to (1) creating @tf.function repeatedly in a loop, (2) passing tensors with different shapes, (3) passing Python objects instead of tensors. For (1), please define your @tf.function outside of the loop. For (2), @tf.function has reduce_retracing=True option that can avoid unnecessary retracing. For (3), please refer to https://www.tensorflow.org/guide/function#controlling_retracing and https://www.tensorflow.org/api_docs/python/tf/function for  more details.\n",
      "1/1 [==============================] - 0s 123ms/step\n",
      "Predicted class: Lele\n",
      "Class probabilities: [9.9986458e-01 1.3491407e-04 4.7955990e-07 3.5895248e-17 1.5086767e-17]\n"
     ]
    }
   ],
   "source": [
    "from tensorflow.keras.models import load_model\n",
    "from tensorflow.keras.preprocessing import image\n",
    "import numpy as np\n",
    "from sklearn.preprocessing import LabelEncoder\n",
    "from flask import Flask, render_template, request, jsonify\n",
    "\n",
    "app = Flask(__name__)\n",
    "\n",
    "# Load model dari file .h5\n",
    "model = load_model(\"./my_model3.h5\")\n",
    "\n",
    "# Path ke gambar yang akan diprediksi\n",
    "input_image_path = './Dataset/lele/istockphoto-530469543-612x612.jpg'\n",
    "\n",
    "# Membaca gambar\n",
    "img = image.load_img(input_image_path, target_size=(150, 150))\n",
    "\n",
    "# # Mengubah gambar menjadi array numpy\n",
    "img_array = image.img_to_array(img)\n",
    "\n",
    "# # Menambahkan dimensi tambahan karena model menerima input dengan bentuk (batch_size, height, width, channels)\n",
    "img_array = np.expand_dims(img_array, axis=0)\n",
    "\n",
    "# # Normalisasi nilai piksel\n",
    "img_array /= 255.0\n",
    "\n",
    "# # Melakukan prediksi\n",
    "prediction = model.predict(img_array)\n",
    "\n",
    "# # Mendapatkan indeks kelas dengan probabilitas tertinggi\n",
    "predicted_class = np.argmax(prediction)\n",
    "\n",
    "# Membuat ulang LabelEncoder dan melakukan inverse transform\n",
    "le = LabelEncoder()\n",
    "le.classes_ = np.load(\"label_encoder_classes.npy\")\n",
    "# # Mendapatkan label kelas dari indeks\n",
    "predicted_label = le.inverse_transform([predicted_class])[0]\n",
    "\n",
    "# # Mencetak hasil prediksi\n",
    "print(f'Predicted class: {predicted_label}')\n",
    "print(f'Class probabilities: {prediction[0]}')\n"
   ]
  }
 ],
 "metadata": {
  "kernelspec": {
   "display_name": "tf",
   "language": "python",
   "name": "python3"
  },
  "language_info": {
   "codemirror_mode": {
    "name": "ipython",
    "version": 3
   },
   "file_extension": ".py",
   "mimetype": "text/x-python",
   "name": "python",
   "nbconvert_exporter": "python",
   "pygments_lexer": "ipython3",
   "version": "3.10.11"
  }
 },
 "nbformat": 4,
 "nbformat_minor": 2
}
